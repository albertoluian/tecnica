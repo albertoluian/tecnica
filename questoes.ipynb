{
 "cells": [
  {
   "cell_type": "markdown",
   "metadata": {},
   "source": [
    "Questão 1"
   ]
  },
  {
   "cell_type": "code",
   "execution_count": 1,
   "metadata": {},
   "outputs": [
    {
     "name": "stdout",
     "output_type": "stream",
     "text": [
      "False\n",
      "True\n"
     ]
    }
   ],
   "source": [
    "calculated = {}\n",
    "def fib(x):\n",
    "    if(x in calculated.keys()):\n",
    "        return calculated[x]\n",
    "    else:\n",
    "        if(x == 0 or x == 1):\n",
    "            return 1\n",
    "        calculated.update({x: fib(x-1) + fib(x-2)})\n",
    "        return calculated[x]\n",
    "\n",
    "def isFib(y):\n",
    "    if(y == 1):\n",
    "        return True\n",
    "    number = fib(0)\n",
    "    count = 1\n",
    "    while(number<y):\n",
    "        count +=1\n",
    "        number = fib(count)\n",
    "        if(number == y):\n",
    "            return True\n",
    "    return False\n",
    "\n",
    "print(isFib(573147844013817084100))\n",
    "print(isFib(573147844013817084101)) #fib(100)"
   ]
  },
  {
   "cell_type": "markdown",
   "metadata": {},
   "source": [
    "Questão 2"
   ]
  },
  {
   "cell_type": "code",
   "execution_count": 2,
   "metadata": {},
   "outputs": [
    {
     "name": "stdout",
     "output_type": "stream",
     "text": [
      "6\n"
     ]
    }
   ],
   "source": [
    "opts = ['a', 'A']\n",
    "def countAa(word):\n",
    "    count = 0\n",
    "    for char in word:\n",
    "        if(char in opts):\n",
    "            count += 1\n",
    "    return count\n",
    "\n",
    "word = \"abAAAcaCaB\"\n",
    "print(countAa(word))"
   ]
  },
  {
   "cell_type": "markdown",
   "metadata": {},
   "source": [
    "Questão 3"
   ]
  },
  {
   "cell_type": "code",
   "execution_count": null,
   "metadata": {},
   "outputs": [],
   "source": [
    "INDICE = 12\n",
    "SOMA = 0\n",
    "K = 1\n",
    "while(K < INDICE): \n",
    "    K = K + 1\n",
    "    SOMA = SOMA + K \n",
    "print(SOMA)"
   ]
  }
 ],
 "metadata": {
  "kernelspec": {
   "display_name": "Python 3.9.0 64-bit",
   "language": "python",
   "name": "python3"
  },
  "language_info": {
   "codemirror_mode": {
    "name": "ipython",
    "version": 3
   },
   "file_extension": ".py",
   "mimetype": "text/x-python",
   "name": "python",
   "nbconvert_exporter": "python",
   "pygments_lexer": "ipython3",
   "version": "3.9.0"
  },
  "orig_nbformat": 4,
  "vscode": {
   "interpreter": {
    "hash": "7382681375eefcdf00b9fccba5597c3b9d2dd10d81df22eb1745f55f34e6810f"
   }
  }
 },
 "nbformat": 4,
 "nbformat_minor": 2
}
